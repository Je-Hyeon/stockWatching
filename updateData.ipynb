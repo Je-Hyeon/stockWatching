{
 "cells": [
  {
   "cell_type": "code",
   "execution_count": 6,
   "id": "8436f95b",
   "metadata": {},
   "outputs": [],
   "source": [
    "import pandas as pd\n",
    "import matplotlib.pyplot as plt\n",
    "from tools.krx_client import KrxClient\n",
    "from tools.kofia_client import KofiaClient\n",
    "from tools.seibro_client import SeibroClient"
   ]
  },
  {
   "cell_type": "code",
   "execution_count": 2,
   "id": "b76fe0cd",
   "metadata": {},
   "outputs": [],
   "source": [
    "start_date = '2020-01-01'\n",
    "end_date = '2025-07-29'"
   ]
  },
  {
   "cell_type": "code",
   "execution_count": null,
   "id": "efe2e76d",
   "metadata": {},
   "outputs": [
    {
     "name": "stdout",
     "output_type": "stream",
     "text": [
      "=== KRX ETF 데이터 업데이트 시작 ===\n",
      "ETF 목록 조회 완료: 506개 종목\n",
      "ETF DB 최신 데이터: 2025-07-29\n",
      "ETF 데이터 수집 기간: 20250730 ~ 20250729\n",
      "이미 최신 ETF 데이터입니다.\n",
      "=== KRX 코스피 데이터 업데이트 시작 ===\n",
      "DB 최근 날짜: 2025-07-29, 수집 시작 날짜: 2025-07-30\n",
      "이미 최신 데이터입니다. 업데이트할 데이터가 없습니다.\n"
     ]
    }
   ],
   "source": [
    "with KrxClient() as krx:\n",
    "    krx.update_etf_data() # 국내 ETF price 업데이트\n",
    "    krx.update_data() # 코스피 인덱스 업데이트    "
   ]
  },
  {
   "cell_type": "code",
   "execution_count": null,
   "id": "45279591",
   "metadata": {},
   "outputs": [
    {
     "name": "stdout",
     "output_type": "stream",
     "text": [
      "=== KOFIA 증시자금 데이터 업데이트 시작 ===\n",
      "DB 최근 날짜: 2025-07-28, 수집 시작 날짜: 2025-07-29\n",
      "데이터 수집 기간: 2025-07-29 ~ 2025-07-29\n"
     ]
    },
    {
     "name": "stderr",
     "output_type": "stream",
     "text": [
      "KOFIA 데이터 수집: 100%|██████████| 1/1 [00:00<00:00, 13.99it/s]"
     ]
    },
    {
     "name": "stdout",
     "output_type": "stream",
     "text": [
      "API에서 데이터를 받아오지 못했습니다.\n",
      "=== KOFIA 증시자금 데이터 업데이트 완료 ===\n"
     ]
    },
    {
     "name": "stderr",
     "output_type": "stream",
     "text": [
      "\n"
     ]
    }
   ],
   "source": [
    "# 증시 자금 데이터 업데이트\n",
    "with KofiaClient() as kofia:\n",
    "    kofia.update_data()"
   ]
  },
  {
   "cell_type": "code",
   "execution_count": 7,
   "id": "7cd11d66",
   "metadata": {},
   "outputs": [
    {
     "name": "stderr",
     "output_type": "stream",
     "text": [
      "INFO:tools.seibro_client:=== SEIBRO 미국 주식 정산 데이터 업데이트 시작 ===\n",
      "INFO:tools.seibro_client:DB 최근 날짜: 2025-07-29, 수집 시작 날짜: 2025-07-30\n",
      "INFO:tools.seibro_client:이미 최신 데이터입니다. 업데이트할 데이터가 없습니다.\n",
      "INFO:tools.seibro_client:SeibroClient 리소스가 정리되었습니다.\n"
     ]
    }
   ],
   "source": [
    "with SeibroClient() as seibro:\n",
    "    seibro.update_data()"
   ]
  },
  {
   "cell_type": "code",
   "execution_count": null,
   "id": "ab56af0c",
   "metadata": {},
   "outputs": [],
   "source": []
  }
 ],
 "metadata": {
  "kernelspec": {
   "display_name": "base",
   "language": "python",
   "name": "python3"
  },
  "language_info": {
   "codemirror_mode": {
    "name": "ipython",
    "version": 3
   },
   "file_extension": ".py",
   "mimetype": "text/x-python",
   "name": "python",
   "nbconvert_exporter": "python",
   "pygments_lexer": "ipython3",
   "version": "3.11.5"
  }
 },
 "nbformat": 4,
 "nbformat_minor": 5
}
