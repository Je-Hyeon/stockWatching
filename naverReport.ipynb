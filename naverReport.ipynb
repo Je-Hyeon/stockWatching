{
 "cells": [
  {
   "cell_type": "code",
   "execution_count": 1,
   "id": "fe501e85",
   "metadata": {},
   "outputs": [
    {
     "data": {
      "text/plain": [
       "True"
      ]
     },
     "execution_count": 1,
     "metadata": {},
     "output_type": "execute_result"
    }
   ],
   "source": [
    "import requests\n",
    "import random\n",
    "import io\n",
    "import os\n",
    "from datetime import datetime\n",
    "from bs4 import BeautifulSoup\n",
    "import time\n",
    "from tqdm import tqdm\n",
    "from dotenv import load_dotenv\n",
    "import pdfplumber\n",
    "from openai import OpenAI\n",
    "\n",
    "load_dotenv()"
   ]
  },
  {
   "cell_type": "code",
   "execution_count": 2,
   "id": "0e0c275e",
   "metadata": {},
   "outputs": [],
   "source": [
    "base_header = {\n",
    "    \"authority\": \"finance.naver.com\",\n",
    "    \"method\": \"GET\",\n",
    "    \"path\": \"/research/company_list.naver?&page=1\",\n",
    "    \"scheme\": \"https\",\n",
    "    \"accept\": \"text/html,application/xhtml+xml,application/xml;q=0.9,image/avif,image/webp,image/apng,*/*;q=0.8,application/signed-exchange;v=b3;q=0.7\",\n",
    "    \"accept-encoding\": \"gzip, deflate, br, zstd\",\n",
    "    \"accept-language\": \"ko-KR,ko;q=0.9,en-US;q=0.8,en;q=0.7\",\n",
    "    \"cache-control\": \"no-cache\",\n",
    "    \"cookie\": \"\",\n",
    "    \"pragma\": \"no-cache\",\n",
    "    \"priority\": \"u=0, i\",\n",
    "    \"referer\": \"https://finance.naver.com/research/company_list.naver?&page=2\",\n",
    "    \"sec-ch-ua\": '\"Not)A;Brand\";v=\"8\", \"Chromium\";v=\"138\", \"Google Chrome\";v=\"138\"',\n",
    "    \"sec-ch-ua-mobile\": \"?0\",\n",
    "    \"sec-ch-ua-platform\": \"Windows\",\n",
    "    \"sec-fetch-dest\": \"document\",\n",
    "    \"sec-fetch-mode\": \"navigate\",\n",
    "    \"sec-fetch-site\": \"same-origin\",\n",
    "    \"sec-fetch-user\": \"?1\",\n",
    "    \"upgrade-insecure-requests\": \"1\",\n",
    "    \"user-agent\": os.getenv(\"USER_AGENT\")\n",
    "}"
   ]
  },
  {
   "cell_type": "code",
   "execution_count": 3,
   "id": "55f24a9c",
   "metadata": {},
   "outputs": [
    {
     "name": "stderr",
     "output_type": "stream",
     "text": [
      "100%|██████████| 49/49 [00:00<00:00, 49108.94it/s]\n"
     ]
    }
   ],
   "source": [
    "report_list = []\n",
    "client = OpenAI(api_key=os.getenv(\"OPENAI_API_KEY\"))\n",
    "today = datetime.now().strftime(\"%Y.%m.%d\")\n",
    "\n",
    "def summarize_report(report_text: str) -> str:\n",
    "    try:\n",
    "        resp = client.responses.create(\n",
    "            model=\"gpt-4.1\",\n",
    "            input=[\n",
    "                {\"role\": \"developer\",\n",
    "                 \"content\": \"\"\"당신은 한국 증권사 리포트를 요약하는 전문가입니다.\n",
    "                    ### 작업 지침 ###\n",
    "                    1. 아래 리포트(첫 페이지)를 읽고 핵심 내용을 **3~6문장**으로 요약하세요.\n",
    "                    2. **수치(매출액·성장률 등)는 최소화**하고, 왜 그런 전망을 내놓았는지 **논리·근거** 위주로 작성하세요.\n",
    "                    3. **목표주가(TP)와 투자의견**이 있으면 반드시 포함하세요.\n",
    "                    4. 보고서 작성자의 면책 조항과 관련된 내용은 제외하세요.\n",
    "                    5. GPT의 의견을 추가하지 말고, 철저히 글 내용 기반으로 답해주세요.\"\"\"},\n",
    "                {\"role\": \"user\", \"content\": report_text}\n",
    "            ],\n",
    "            temperature=0.1,\n",
    "        )\n",
    "        return resp.output_text.strip()\n",
    "    except Exception as e:\n",
    "        return f\"요약 실패: {e}\"\n",
    "\n",
    "with requests.Session() as session:\n",
    "    for page in range(1, 2):\n",
    "        base_url = f\"https://finance.naver.com/research/company_list.naver?&page={page}\"\n",
    "        req = session.get(base_url, headers=base_header)\n",
    "        soup = BeautifulSoup(req.text, \"html.parser\")    \n",
    "        table = soup.find(\"table\", class_=\"type_1\")\n",
    "        if not table:\n",
    "            continue\n",
    "        rows = table.find_all(\"tr\")\n",
    "        for row in tqdm(rows):\n",
    "            cols = row.find_all(\"td\")\n",
    "            if len(cols) < 5:\n",
    "                continue\n",
    "            securities = cols[2].get_text(strip=True)  # 증권사\n",
    "\n",
    "            # 신한투자증권이면 스킵\n",
    "            if securities == \"신한투자증권\":\n",
    "                continue\n",
    "\n",
    "            report_title = cols[1].get_text(strip=True)  # 리포트 이름\n",
    "            company_name = cols[0].get_text(strip=True)  # 회사 이름\n",
    "\n",
    "            # pdf 주소는 .pdf로 끝나는 a 태그에서 추출\n",
    "            pdf_url = \"\"\n",
    "            pdf_a_tag = row.find(\"a\", href=lambda x: x and x.endswith(\".pdf\"))\n",
    "            if pdf_a_tag and pdf_a_tag.get(\"href\"):\n",
    "                pdf_url = pdf_a_tag.get(\"href\")\n",
    "                # pdf_url이 절대경로가 아니면, 앞에 https://stock.pstatic.net 붙이기\n",
    "                if not pdf_url.startswith(\"http\"):\n",
    "                    pdf_url = \"https://stock.pstatic.net\" + pdf_url\n",
    "\n",
    "            date = cols[4].get_text(strip=True) if len(cols) > 4 else \"\"  # 올라온 날짜\n",
    "\n",
    "            # 오늘 날짜가 아니면 스킵\n",
    "            if date != today:\n",
    "                continue\n",
    "\n",
    "            # pdf_url이 있으면 pdf에서 텍스트 추출\n",
    "            report_text = \"\"\n",
    "            if pdf_url:\n",
    "                try:\n",
    "                    pdf_req = session.get(pdf_url)\n",
    "                    # PDF 요청 후에도 랜덤하게 1~2초 sleep\n",
    "                    time.sleep(random.uniform(1, 2))\n",
    "                    pdf_file = io.BytesIO(pdf_req.content)\n",
    "                    with pdfplumber.open(pdf_file) as pdf:\n",
    "                        first_page = pdf.pages[0]\n",
    "                        report_text = first_page.extract_text()\n",
    "                except Exception as e:\n",
    "                    report_text = f\"PDF 추출 실패: {e}\"\n",
    "\n",
    "            summary = \"\"\n",
    "            if report_text and not report_text.startswith(\"PDF 추출 실패\"):\n",
    "                summary = summarize_report(report_text)\n",
    "            else:\n",
    "                summary = \"텍스트 없음 또는 PDF 추출 실패\"\n",
    "\n",
    "            report_dict = {\n",
    "                \"증권사\": securities,\n",
    "                \"리포트명\": report_title,\n",
    "                \"회사명\": company_name,\n",
    "                \"pdf주소\": pdf_url,\n",
    "                \"날짜\": date,\n",
    "                \"텍스트\": report_text,\n",
    "                \"요약\": summary\n",
    "            }\n",
    "            report_list.append(report_dict)"
   ]
  },
  {
   "cell_type": "code",
   "execution_count": 4,
   "id": "fb627784",
   "metadata": {},
   "outputs": [
    {
     "name": "stdout",
     "output_type": "stream",
     "text": [
      "AI가 요약한 결과입니다. 정보의 정확성은 보장하지 않습니다.\n",
      "\n",
      "================================================\n"
     ]
    }
   ],
   "source": [
    "print(\"AI가 요약한 결과입니다. 정보의 정확성은 보장하지 않습니다.\")\n",
    "print()\n",
    "print(\"================================================\")\n",
    "for report_dict in report_list:\n",
    "    print(\"## \",report_dict[\"리포트명\"], \"|\", report_dict[\"회사명\"], \"|\", report_dict[\"증권사\"], \"|\", report_dict[\"날짜\"], \" ##\")\n",
    "    print()\n",
    "    # 요약을 문장 단위로 쪼개서 '. ' 뒤에 엔터를 넣어 출력\n",
    "    summary = report_dict[\"요약\"]\n",
    "    # '. '로 끝나는 문장 뒤에만 줄바꿈 추가 (예: 7.9만원 등은 줄바꿈하지 않음)\n",
    "    import re\n",
    "    sentences = re.split(r'(?<=\\.\\s)', summary)\n",
    "    for sentence in sentences:\n",
    "        if sentence.strip():  # 빈 문장은 출력하지 않음\n",
    "            print(\"◼︎ \",sentence.strip())\n",
    "    print(\"================================================\")\n",
    "    print()"
   ]
  },
  {
   "cell_type": "code",
   "execution_count": null,
   "id": "a004eb9c",
   "metadata": {},
   "outputs": [],
   "source": [
    "()"
   ]
  }
 ],
 "metadata": {
  "kernelspec": {
   "display_name": "base",
   "language": "python",
   "name": "python3"
  },
  "language_info": {
   "codemirror_mode": {
    "name": "ipython",
    "version": 3
   },
   "file_extension": ".py",
   "mimetype": "text/x-python",
   "name": "python",
   "nbconvert_exporter": "python",
   "pygments_lexer": "ipython3",
   "version": "3.9.13"
  }
 },
 "nbformat": 4,
 "nbformat_minor": 5
}
